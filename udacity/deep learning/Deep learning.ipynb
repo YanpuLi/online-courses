{
 "cells": [
  {
   "cell_type": "markdown",
   "metadata": {},
   "source": [
    "# Lesson1, quiz 1"
   ]
  },
  {
   "cell_type": "markdown",
   "metadata": {},
   "source": [
    "http://docs.w3cub.com/numpy~1.10/"
   ]
  },
  {
   "cell_type": "code",
   "execution_count": null,
   "metadata": {
    "collapsed": false
   },
   "outputs": [],
   "source": [
    "\"\"\"Softmax.\"\"\"\n",
    "\n",
    "scores = [3.0, 1.0, 0.2]\n",
    "\n",
    "import numpy as np\n",
    "%matplotlib inline\n",
    "def softmax(x):\n",
    "    \"\"\"Compute softmax values for each sets of scores in x.\"\"\"\n",
    "    return np.exp(x)/np.sum(np.exp(x), axis =0)\n",
    "    pass  # TODO: Compute and return softmax(x)\n",
    "\n",
    "\n",
    "print(softmax(scores))\n",
    "\n",
    "# Plot softmax curves\n",
    "import matplotlib.pyplot as plt\n",
    "x = np.arange(-2.0, 6.0, 0.1)\n",
    "scores = np.vstack([x, np.ones_like(x), 0.2 * np.ones_like(x)])\n",
    "\n",
    "plt.plot(x, softmax(scores).T, linewidth=2)\n",
    "plt.show()\n"
   ]
  },
  {
   "cell_type": "markdown",
   "metadata": {},
   "source": [
    "Conclusion: if you increase the size of your output, the classifier become more confident about the results. otherwise, become very unsure"
   ]
  },
  {
   "cell_type": "code",
   "execution_count": 4,
   "metadata": {
    "collapsed": false
   },
   "outputs": [
    {
     "data": {
      "text/plain": [
       "1.0"
      ]
     },
     "execution_count": 4,
     "metadata": {},
     "output_type": "execute_result"
    }
   ],
   "source": [
    "round(1000000000 +0.000001*1000000-1000000000,3)"
   ]
  },
  {
   "cell_type": "code",
   "execution_count": 13,
   "metadata": {
    "collapsed": false
   },
   "outputs": [
    {
     "data": {
      "text/plain": [
       "[[0], [1, 2]]"
      ]
     },
     "execution_count": 13,
     "metadata": {},
     "output_type": "execute_result"
    }
   ],
   "source": [
    "s = 'egg'\n",
    "dicS = {}\n",
    "for i in xrange(len(s)):\n",
    "            if s[i] not in dicS:\n",
    "                dicS[s[i]] = [i]\n",
    "            else:\n",
    "                dicS[s[i]].append(i)\n",
    "dicS.values()"
   ]
  },
  {
   "cell_type": "code",
   "execution_count": 14,
   "metadata": {
    "collapsed": false
   },
   "outputs": [
    {
     "data": {
      "text/plain": [
       "[[0], [1, 2]]"
      ]
     },
     "execution_count": 14,
     "metadata": {},
     "output_type": "execute_result"
    }
   ],
   "source": [
    "t = 'add'\n",
    "dicT = {}\n",
    "for i in xrange(len(s)):\n",
    "            if t[i] not in dicT:\n",
    "                dicT[t[i]] = [i]\n",
    "            else:\n",
    "                dicT[t[i]].append(i)\n",
    "dicT.values()"
   ]
  },
  {
   "cell_type": "code",
   "execution_count": 15,
   "metadata": {
    "collapsed": false
   },
   "outputs": [
    {
     "data": {
      "text/plain": [
       "True"
      ]
     },
     "execution_count": 15,
     "metadata": {},
     "output_type": "execute_result"
    }
   ],
   "source": [
    "len(filter(lambda x: x not in dicT.values(), dicS.values())) == 0"
   ]
  },
  {
   "cell_type": "code",
   "execution_count": 18,
   "metadata": {
    "collapsed": false
   },
   "outputs": [
    {
     "data": {
      "text/plain": [
       "True"
      ]
     },
     "execution_count": 18,
     "metadata": {},
     "output_type": "execute_result"
    }
   ],
   "source": [
    "def isIsomorphic(s, t):\n",
    "        \"\"\"\n",
    "        :type s: str\n",
    "        :type t: str\n",
    "        :rtype: bool\n",
    "        \"\"\"\n",
    "        \n",
    "        if len(s) != len(t): return False\n",
    "        dicS = {}\n",
    "        for i in xrange(len(s)):\n",
    "            if s[i] not in dicS:\n",
    "                dicS[s[i]] = [i]\n",
    "            else:\n",
    "                dicS[s[i]].append(i)\n",
    "        dicT = {}\n",
    "        for j in xrange(len(t)):\n",
    "            if t[j] not in dicT:\n",
    "                dicT[t[j]] = [j]\n",
    "            else:\n",
    "                dicT[t[j]].append(j)\n",
    "        if len(dicS.values()) == len(dicT.values()):\n",
    "            if len(filter(lambda x: x not in dicT.values(), dicS.values())) == 0:\n",
    "                return True\n",
    "        print dicS\n",
    "        return False\n",
    "isIsomorphic('egg', 'add')"
   ]
  },
  {
   "cell_type": "code",
   "execution_count": null,
   "metadata": {
    "collapsed": true
   },
   "outputs": [],
   "source": []
  }
 ],
 "metadata": {
  "kernelspec": {
   "display_name": "Python 2",
   "language": "python",
   "name": "python2"
  },
  "language_info": {
   "codemirror_mode": {
    "name": "ipython",
    "version": 2
   },
   "file_extension": ".py",
   "mimetype": "text/x-python",
   "name": "python",
   "nbconvert_exporter": "python",
   "pygments_lexer": "ipython2",
   "version": "2.7.13"
  }
 },
 "nbformat": 4,
 "nbformat_minor": 0
}
